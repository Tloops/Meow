{
 "cells": [
  {
   "cell_type": "code",
   "execution_count": 2,
   "metadata": {},
   "outputs": [],
   "source": [
    "from PIL import Image\n",
    "\n",
    "def scale_image(image_path, target_height):\n",
    "    # 打开图像\n",
    "    image = Image.open(image_path)\n",
    "\n",
    "    # 计算缩放比例\n",
    "    width, height = image.size\n",
    "    aspect_ratio = target_height / height\n",
    "    target_width = int(width * aspect_ratio)\n",
    "\n",
    "    # 缩放图像\n",
    "    scaled_image = image.resize((target_width, target_height))\n",
    "\n",
    "    # 返回缩放后的图像\n",
    "    return scaled_image\n"
   ]
  },
  {
   "cell_type": "code",
   "execution_count": 3,
   "metadata": {},
   "outputs": [],
   "source": [
    "img = scale_image('./waiwai-and-hanhan-1.jpg', 960)\n",
    "img.save('./out.jpg')"
   ]
  }
 ],
 "metadata": {
  "kernelspec": {
   "display_name": "PyTorch-2.0",
   "language": "python",
   "name": "python3"
  },
  "language_info": {
   "codemirror_mode": {
    "name": "ipython",
    "version": 3
   },
   "file_extension": ".py",
   "mimetype": "text/x-python",
   "name": "python",
   "nbconvert_exporter": "python",
   "pygments_lexer": "ipython3",
   "version": "3.10.10"
  },
  "orig_nbformat": 4
 },
 "nbformat": 4,
 "nbformat_minor": 2
}
